{
 "cells": [
  {
   "cell_type": "markdown",
   "id": "b46a0439",
   "metadata": {},
   "source": [
    "latihan mandiri 1"
   ]
  },
  {
   "cell_type": "code",
   "execution_count": 4,
   "id": "bb1fb2eb",
   "metadata": {},
   "outputs": [
    {
     "name": "stdout",
     "output_type": "stream",
     "text": [
      "perbedaan:\n",
      "file1= 3\n",
      "file2= tiga\n",
      "\n",
      "perbedaan:\n",
      "file1= 4\n",
      "file2= empat\n",
      "\n",
      "perbedaan:\n",
      "file1= 6\n",
      "file2= enam\n",
      "\n",
      "perbedaan:\n",
      "file1= 9\n",
      "file2= sembilan\n",
      "\n"
     ]
    }
   ],
   "source": [
    "file1 = str(input(\"masukan file pertama: \"))\n",
    "file2 = str(input(\"masukan file pertama: \"))\n",
    "\n",
    "\n",
    "with open(file1) as f1, open(file2) as f2:\n",
    "    for i, (f1,f2) in enumerate(zip(f1, f2),1):\n",
    "        if f1 != f2:\n",
    "            print(f\"perbedaan:\\nfile1= {f1}file2= {f2}\")"
   ]
  },
  {
   "cell_type": "markdown",
   "id": "04e81a50",
   "metadata": {},
   "source": [
    "latihan mandiri 2"
   ]
  },
  {
   "cell_type": "code",
   "execution_count": 9,
   "id": "32a746dd",
   "metadata": {},
   "outputs": [
    {
     "name": "stdout",
     "output_type": "stream",
     "text": [
      "1+1 = \n",
      "jawaban benar !\n",
      "Bendera Indonesia? \n",
      "jawaban benar !\n",
      "Kota gudeg adalah: \n",
      "jawaban benar !\n",
      "Komponen PC untuk penyimpanan file adalah... \n",
      "jawaban benar !\n",
      "50 * 20 = \n",
      "jawaban benar !\n"
     ]
    }
   ],
   "source": [
    "def quiz(soal):\n",
    "    try:\n",
    "        file = open(soal)\n",
    "        nomor = 1\n",
    "        for i in file:\n",
    "            x = i.find(\"||\")\n",
    "            jawaban = i[x+3:]\n",
    "            for j in i:\n",
    "                if j == \"|\":\n",
    "                    break\n",
    "                else:\n",
    "                    print(j,end=\"\")\n",
    "            print()\n",
    "            jawab = str(input(\"jawab : \")).lower().strip()\n",
    "            if jawab == jawaban.lower().strip():\n",
    "                print(\"jawaban benar !\")\n",
    "            else:\n",
    "                print(\"jawaban salah !\")\n",
    "                print(\"jawaban yang benar: \",i[x+3:])\n",
    "            nomor += 1\n",
    "    except:\n",
    "        print(\"FILE TIDAK DITEMUKAN\")\n",
    "\n",
    "quiz(str(input(\"nama file: \")))"
   ]
  }
 ],
 "metadata": {
  "kernelspec": {
   "display_name": "Python 3",
   "language": "python",
   "name": "python3"
  },
  "language_info": {
   "codemirror_mode": {
    "name": "ipython",
    "version": 3
   },
   "file_extension": ".py",
   "mimetype": "text/x-python",
   "name": "python",
   "nbconvert_exporter": "python",
   "pygments_lexer": "ipython3",
   "version": "3.12.1"
  }
 },
 "nbformat": 4,
 "nbformat_minor": 5
}
